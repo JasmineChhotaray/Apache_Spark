{
 "cells": [
  {
   "cell_type": "markdown",
   "id": "4b67e430",
   "metadata": {},
   "source": [
    "## PySpark Groupby and Aggregate Functions"
   ]
  },
  {
   "cell_type": "code",
   "execution_count": 1,
   "id": "1229da59",
   "metadata": {},
   "outputs": [],
   "source": [
    "from pyspark.sql import SparkSession"
   ]
  },
  {
   "cell_type": "code",
   "execution_count": 2,
   "id": "8687dcf2",
   "metadata": {},
   "outputs": [],
   "source": [
    "spark = SparkSession.builder.appName('Agg').getOrCreate()"
   ]
  },
  {
   "cell_type": "code",
   "execution_count": 3,
   "id": "c50a3bc6",
   "metadata": {},
   "outputs": [
    {
     "data": {
      "text/html": [
       "\n",
       "            <div>\n",
       "                <p><b>SparkSession - in-memory</b></p>\n",
       "                \n",
       "        <div>\n",
       "            <p><b>SparkContext</b></p>\n",
       "\n",
       "            <p><a href=\"http://host.docker.internal:4040\">Spark UI</a></p>\n",
       "\n",
       "            <dl>\n",
       "              <dt>Version</dt>\n",
       "                <dd><code>v3.2.1</code></dd>\n",
       "              <dt>Master</dt>\n",
       "                <dd><code>local[*]</code></dd>\n",
       "              <dt>AppName</dt>\n",
       "                <dd><code>Agg</code></dd>\n",
       "            </dl>\n",
       "        </div>\n",
       "        \n",
       "            </div>\n",
       "        "
      ],
      "text/plain": [
       "<pyspark.sql.session.SparkSession at 0x201f2c89af0>"
      ]
     },
     "execution_count": 3,
     "metadata": {},
     "output_type": "execute_result"
    }
   ],
   "source": [
    "spark"
   ]
  },
  {
   "cell_type": "code",
   "execution_count": 4,
   "id": "388d68df",
   "metadata": {},
   "outputs": [],
   "source": [
    "# Read the dataset\n",
    "\n",
    "df_pyspark = spark.read.csv('test4.csv', header=True, inferSchema=True)"
   ]
  },
  {
   "cell_type": "code",
   "execution_count": 5,
   "id": "a92d97c2",
   "metadata": {},
   "outputs": [
    {
     "name": "stdout",
     "output_type": "stream",
     "text": [
      "+---------+-------------+------+\n",
      "|     Name|   Department|Salary|\n",
      "+---------+-------------+------+\n",
      "|    Limon| Data Science| 10000|\n",
      "|    Dalya|          IOT|  5000|\n",
      "|     Viko|     Big Data|  4000|\n",
      "|     Paul|     Big Data|  4000|\n",
      "|   Harsha| Data Science|  3000|\n",
      "|  Shubham|Data Engineer| 20000|\n",
      "|   Mahesh|          IOT| 10000|\n",
      "|Sudhanshu|     Big Data|  5000|\n",
      "|    Sunny|Data Engineer| 10000|\n",
      "|  Prakash| Data Analyst|  2000|\n",
      "+---------+-------------+------+\n",
      "\n"
     ]
    }
   ],
   "source": [
    "df_pyspark.show()"
   ]
  },
  {
   "cell_type": "code",
   "execution_count": 6,
   "id": "88eefc52",
   "metadata": {},
   "outputs": [
    {
     "name": "stdout",
     "output_type": "stream",
     "text": [
      "root\n",
      " |-- Name: string (nullable = true)\n",
      " |-- Department: string (nullable = true)\n",
      " |-- Salary: integer (nullable = true)\n",
      "\n"
     ]
    }
   ],
   "source": [
    "# Check the cloumns\n",
    "\n",
    "df_pyspark.printSchema()"
   ]
  },
  {
   "cell_type": "code",
   "execution_count": 7,
   "id": "154b7803",
   "metadata": {},
   "outputs": [
    {
     "data": {
      "text/plain": [
       "<pyspark.sql.group.GroupedData at 0x201f2c89160>"
      ]
     },
     "execution_count": 7,
     "metadata": {},
     "output_type": "execute_result"
    }
   ],
   "source": [
    "# Perform Groupby operations\n",
    "\n",
    "df_pyspark.groupBy('Name')"
   ]
  },
  {
   "cell_type": "code",
   "execution_count": 8,
   "id": "5ec1b8bc",
   "metadata": {},
   "outputs": [
    {
     "data": {
      "text/plain": [
       "DataFrame[Name: string, sum(Salary): bigint]"
      ]
     },
     "execution_count": 8,
     "metadata": {},
     "output_type": "execute_result"
    }
   ],
   "source": [
    "df_pyspark.groupBy('Name').sum()"
   ]
  },
  {
   "cell_type": "code",
   "execution_count": 9,
   "id": "f21d42b7",
   "metadata": {},
   "outputs": [
    {
     "name": "stdout",
     "output_type": "stream",
     "text": [
      "+---------+-----------+\n",
      "|     Name|sum(Salary)|\n",
      "+---------+-----------+\n",
      "|    Dalya|       5000|\n",
      "|    Limon|      10000|\n",
      "|     Viko|       4000|\n",
      "|Sudhanshu|       5000|\n",
      "|    Sunny|      10000|\n",
      "|   Harsha|       3000|\n",
      "|  Prakash|       2000|\n",
      "|     Paul|       4000|\n",
      "|  Shubham|      20000|\n",
      "|   Mahesh|      10000|\n",
      "+---------+-----------+\n",
      "\n"
     ]
    }
   ],
   "source": [
    "# Grouped to find the max salary\n",
    "\n",
    "df_pyspark.groupBy('Name').sum().show()"
   ]
  },
  {
   "cell_type": "code",
   "execution_count": 10,
   "id": "e8cbb024",
   "metadata": {},
   "outputs": [
    {
     "name": "stdout",
     "output_type": "stream",
     "text": [
      "+-------------+-----------+\n",
      "|   Department|sum(Salary)|\n",
      "+-------------+-----------+\n",
      "|          IOT|      15000|\n",
      "| Data Analyst|       2000|\n",
      "|     Big Data|      13000|\n",
      "| Data Science|      13000|\n",
      "|Data Engineer|      30000|\n",
      "+-------------+-----------+\n",
      "\n"
     ]
    }
   ],
   "source": [
    "# GroupBy 'Department' to get max salary\n",
    "\n",
    "df_pyspark.groupBy('Department').sum().show()"
   ]
  },
  {
   "cell_type": "code",
   "execution_count": 11,
   "id": "ca888b93",
   "metadata": {},
   "outputs": [
    {
     "name": "stdout",
     "output_type": "stream",
     "text": [
      "+-------------+-----------------+\n",
      "|   Department|      avg(Salary)|\n",
      "+-------------+-----------------+\n",
      "|          IOT|           7500.0|\n",
      "| Data Analyst|           2000.0|\n",
      "|     Big Data|4333.333333333333|\n",
      "| Data Science|           6500.0|\n",
      "|Data Engineer|          15000.0|\n",
      "+-------------+-----------------+\n",
      "\n"
     ]
    }
   ],
   "source": [
    "df_pyspark.groupBy('Department').mean().show()\n",
    "\n",
    "# Here, mean will be based on how many people are working in the department"
   ]
  },
  {
   "cell_type": "code",
   "execution_count": 12,
   "id": "924ff81e",
   "metadata": {},
   "outputs": [
    {
     "name": "stdout",
     "output_type": "stream",
     "text": [
      "+-------------+-----+\n",
      "|   Department|count|\n",
      "+-------------+-----+\n",
      "|          IOT|    2|\n",
      "| Data Analyst|    1|\n",
      "|     Big Data|    3|\n",
      "| Data Science|    2|\n",
      "|Data Engineer|    2|\n",
      "+-------------+-----+\n",
      "\n"
     ]
    }
   ],
   "source": [
    "# How many no.of employees are working based on 'Department'\n",
    "\n",
    "df_pyspark.groupBy('Department').count().show()"
   ]
  },
  {
   "cell_type": "code",
   "execution_count": 13,
   "id": "422e45af",
   "metadata": {},
   "outputs": [
    {
     "name": "stdout",
     "output_type": "stream",
     "text": [
      "+-----------+\n",
      "|sum(Salary)|\n",
      "+-----------+\n",
      "|      73000|\n",
      "+-----------+\n",
      "\n"
     ]
    }
   ],
   "source": [
    "df_pyspark.agg({'Salary': 'sum'}).show()"
   ]
  },
  {
   "cell_type": "code",
   "execution_count": 14,
   "id": "ac2c5ca8",
   "metadata": {},
   "outputs": [
    {
     "name": "stdout",
     "output_type": "stream",
     "text": [
      "+---------+-----------+\n",
      "|     Name|max(Salary)|\n",
      "+---------+-----------+\n",
      "|    Dalya|       5000|\n",
      "|    Limon|      10000|\n",
      "|     Viko|       4000|\n",
      "|Sudhanshu|       5000|\n",
      "|    Sunny|      10000|\n",
      "|   Harsha|       3000|\n",
      "|  Prakash|       2000|\n",
      "|     Paul|       4000|\n",
      "|  Shubham|      20000|\n",
      "|   Mahesh|      10000|\n",
      "+---------+-----------+\n",
      "\n"
     ]
    }
   ],
   "source": [
    "# Max salary that the person is getting\n",
    "\n",
    "df_pyspark.groupBy('Name').max().show()"
   ]
  },
  {
   "cell_type": "code",
   "execution_count": 15,
   "id": "c83bcdc5",
   "metadata": {},
   "outputs": [
    {
     "name": "stdout",
     "output_type": "stream",
     "text": [
      "+---------+-----------+\n",
      "|     Name|min(Salary)|\n",
      "+---------+-----------+\n",
      "|    Dalya|       5000|\n",
      "|    Limon|      10000|\n",
      "|     Viko|       4000|\n",
      "|Sudhanshu|       5000|\n",
      "|    Sunny|      10000|\n",
      "|   Harsha|       3000|\n",
      "|  Prakash|       2000|\n",
      "|     Paul|       4000|\n",
      "|  Shubham|      20000|\n",
      "|   Mahesh|      10000|\n",
      "+---------+-----------+\n",
      "\n"
     ]
    }
   ],
   "source": [
    "df_pyspark.groupBy('Name').min().show()"
   ]
  },
  {
   "cell_type": "code",
   "execution_count": 16,
   "id": "87a02f63",
   "metadata": {},
   "outputs": [
    {
     "name": "stdout",
     "output_type": "stream",
     "text": [
      "+---------+-----------+\n",
      "|     Name|avg(Salary)|\n",
      "+---------+-----------+\n",
      "|    Dalya|     5000.0|\n",
      "|    Limon|    10000.0|\n",
      "|     Viko|     4000.0|\n",
      "|Sudhanshu|     5000.0|\n",
      "|    Sunny|    10000.0|\n",
      "|   Harsha|     3000.0|\n",
      "|  Prakash|     2000.0|\n",
      "|     Paul|     4000.0|\n",
      "|  Shubham|    20000.0|\n",
      "|   Mahesh|    10000.0|\n",
      "+---------+-----------+\n",
      "\n"
     ]
    }
   ],
   "source": [
    "df_pyspark.groupBy('Name').avg().show()"
   ]
  },
  {
   "cell_type": "code",
   "execution_count": null,
   "id": "98dd048c",
   "metadata": {},
   "outputs": [],
   "source": []
  }
 ],
 "metadata": {
  "kernelspec": {
   "display_name": "pyspark",
   "language": "python",
   "name": "pyspark"
  },
  "language_info": {
   "codemirror_mode": {
    "name": "ipython",
    "version": 3
   },
   "file_extension": ".py",
   "mimetype": "text/x-python",
   "name": "python",
   "nbconvert_exporter": "python",
   "pygments_lexer": "ipython3",
   "version": "3.9.5"
  }
 },
 "nbformat": 4,
 "nbformat_minor": 5
}
