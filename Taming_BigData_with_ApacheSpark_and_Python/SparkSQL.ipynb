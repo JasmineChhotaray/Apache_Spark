{
 "cells": [
  {
   "cell_type": "markdown",
   "id": "148dba42",
   "metadata": {},
   "source": [
    "#### uses DataFrame & Datsets"
   ]
  },
  {
   "cell_type": "markdown",
   "id": "f955efce",
   "metadata": {},
   "source": [
    "#### Better to use DataFrame API instead of RDD"
   ]
  },
  {
   "cell_type": "markdown",
   "id": "d56ee41c",
   "metadata": {},
   "source": [
    "- Extends RDD to DataFrame object.\n",
    "- DataFrame is like a big Database table.\n",
    "- contain Row objects.\n",
    "- can Run SQL queries.\n",
    "- can have Schema (leading to more efficient storage)\n",
    "- Read 6 Write to JSON, Hive, Parquet, CSV...\n",
    "- Communications with JDBC/ODBC, Tableau"
   ]
  },
  {
   "cell_type": "markdown",
   "id": "d71d7510",
   "metadata": {},
   "source": [
    "### Codes for using SPARK SQL in Python"
   ]
  },
  {
   "cell_type": "markdown",
   "id": "a5a9173d",
   "metadata": {},
   "source": [
    "from pyspark.sql import SparkSession, Row"
   ]
  },
  {
   "cell_type": "markdown",
   "id": "f09f4439",
   "metadata": {},
   "source": [
    "spark = SparkSession.builder.appName(\"SparkSQL\").getOrCreate()"
   ]
  },
  {
   "cell_type": "markdown",
   "id": "51557be2",
   "metadata": {},
   "source": [
    "inputData = spark.read.json(dataFile)"
   ]
  },
  {
   "cell_type": "markdown",
   "id": "0ba7b053",
   "metadata": {},
   "source": [
    "inputData.createOrReplaceTempView(\"myStructuredStuff\")"
   ]
  },
  {
   "cell_type": "markdown",
   "id": "6d5de328",
   "metadata": {},
   "source": [
    "myResultDataFrame = spark.sql(\"SELECT foo FROM bar ORDER BY foobar\")"
   ]
  },
  {
   "cell_type": "markdown",
   "id": "e50bb188",
   "metadata": {},
   "source": [
    "### Other stuff we can do with DataFrames"
   ]
  },
  {
   "cell_type": "markdown",
   "id": "fca0865b",
   "metadata": {},
   "source": [
    "myResultDataFrame.show()"
   ]
  },
  {
   "cell_type": "markdown",
   "id": "0a3a235f",
   "metadata": {},
   "source": [
    "myResultDataFrame.select(\"someFieldName\")"
   ]
  },
  {
   "cell_type": "markdown",
   "id": "474f77b7",
   "metadata": {},
   "source": [
    "myResultDataFrame.filter(myResultDataFrame(\"someFieldName\" > 200))"
   ]
  },
  {
   "cell_type": "markdown",
   "id": "1be7e9a8",
   "metadata": {},
   "source": [
    "myResultDataFrame..groupBy(myResultDataFrame(\"someFieldName\").mean())"
   ]
  },
  {
   "cell_type": "markdown",
   "id": "0e17c661",
   "metadata": {},
   "source": [
    "myResultDataFrame.rdd().map(mapperFunction)"
   ]
  },
  {
   "cell_type": "markdown",
   "id": "aac5d0b2",
   "metadata": {},
   "source": [
    "### The trend in SPARK is to use RDD's less and more DataFrames."
   ]
  },
  {
   "cell_type": "markdown",
   "id": "0c570468",
   "metadata": {},
   "source": [
    "### MLLib & Spark streaming are moving toward using DataFrames instead of RDD's for their primary API"
   ]
  },
  {
   "cell_type": "markdown",
   "id": "21ce0ac5",
   "metadata": {},
   "source": [
    "### DataFrames simplify Development - can perform SQL operations on DataFrame with one line"
   ]
  },
  {
   "cell_type": "markdown",
   "id": "0fb091a4",
   "metadata": {},
   "source": [
    "# Dataset"
   ]
  },
  {
   "cell_type": "markdown",
   "id": "6fef66a4",
   "metadata": {},
   "source": [
    "### a DataFrame is really a DataSet that compose of Row objects."
   ]
  },
  {
   "cell_type": "markdown",
   "id": "5d6f993a",
   "metadata": {},
   "source": [
    "Dataset can wrap structured data types as well not just unstructured row. Python we will be dealing more with DataFrames as opposed to Datasets."
   ]
  },
  {
   "cell_type": "code",
   "execution_count": null,
   "id": "983eeea4",
   "metadata": {},
   "outputs": [],
   "source": [
    "from pyspark.sql.types import IntegerType\n",
    "\n",
    "def square(x):\n",
    "    return x * x\n",
    "\n",
    "\n",
    "spark.udf..register(\"square\", square, IntegerType())\n",
    "df = spark.sql(\"SELECT square('someNumericField') FROM tablename\")"
   ]
  },
  {
   "cell_type": "markdown",
   "id": "d518d4a1",
   "metadata": {},
   "source": [
    "### DataFrames are just Datasets of Row objects"
   ]
  },
  {
   "cell_type": "code",
   "execution_count": null,
   "id": "c6e043a0",
   "metadata": {},
   "outputs": [],
   "source": []
  },
  {
   "cell_type": "code",
   "execution_count": null,
   "id": "430a2ff8",
   "metadata": {},
   "outputs": [],
   "source": []
  },
  {
   "cell_type": "code",
   "execution_count": null,
   "id": "884962c9",
   "metadata": {},
   "outputs": [],
   "source": []
  },
  {
   "cell_type": "code",
   "execution_count": null,
   "id": "2261360b",
   "metadata": {},
   "outputs": [],
   "source": []
  }
 ],
 "metadata": {
  "kernelspec": {
   "display_name": "V_Projects",
   "language": "python",
   "name": "v_projects"
  },
  "language_info": {
   "codemirror_mode": {
    "name": "ipython",
    "version": 3
   },
   "file_extension": ".py",
   "mimetype": "text/x-python",
   "name": "python",
   "nbconvert_exporter": "python",
   "pygments_lexer": "ipython3",
   "version": "3.9.5"
  }
 },
 "nbformat": 4,
 "nbformat_minor": 5
}
