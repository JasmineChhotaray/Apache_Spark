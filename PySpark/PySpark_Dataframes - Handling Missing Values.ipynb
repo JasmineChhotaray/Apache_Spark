{
 "cells": [
  {
   "cell_type": "markdown",
   "id": "5f95f350",
   "metadata": {},
   "source": [
    "## Pyspark Handling missing Values\n",
    "\n",
    "- Dropping columns\n",
    "- Dropping Rows\n",
    "- Various Parameter In Dropping functionalities\n",
    "- Handling Missing values by Mean, Median and Mode"
   ]
  },
  {
   "cell_type": "code",
   "execution_count": 1,
   "id": "a6ec33db",
   "metadata": {},
   "outputs": [],
   "source": [
    "from pyspark.sql import SparkSession"
   ]
  },
  {
   "cell_type": "code",
   "execution_count": 2,
   "id": "4f00b7fe",
   "metadata": {},
   "outputs": [],
   "source": [
    "spark = SparkSession.builder.appName('Practice').getOrCreate()"
   ]
  },
  {
   "cell_type": "code",
   "execution_count": 3,
   "id": "67de76a3",
   "metadata": {},
   "outputs": [
    {
     "data": {
      "text/plain": [
       "DataFrame[Name: string, Age: int, Experience: int, Salary: int]"
      ]
     },
     "execution_count": 3,
     "metadata": {},
     "output_type": "execute_result"
    }
   ],
   "source": [
    "spark.read.csv('test2.csv', header=True, inferSchema=True)"
   ]
  },
  {
   "cell_type": "code",
   "execution_count": 4,
   "id": "93ac64cd",
   "metadata": {},
   "outputs": [
    {
     "name": "stdout",
     "output_type": "stream",
     "text": [
      "+-------+----+----------+------+\n",
      "|   Name| Age|Experience|Salary|\n",
      "+-------+----+----------+------+\n",
      "|  Limon|  31|        10| 30000|\n",
      "|  Dalya|  30|         8| 25000|\n",
      "|   Viko|  29|         4| 20000|\n",
      "|   Paul|  24|         3| 20000|\n",
      "| Mahesh|  21|         1| 15000|\n",
      "| Harsha|  23|         2| 18000|\n",
      "|Beyonce|null|      null| 40000|\n",
      "|   null|  34|        10| 38000|\n",
      "|   null|  36|      null|  null|\n",
      "+-------+----+----------+------+\n",
      "\n"
     ]
    }
   ],
   "source": [
    "spark.read.csv('test2.csv', header=True, inferSchema=True).show()"
   ]
  },
  {
   "cell_type": "code",
   "execution_count": 5,
   "id": "e834cb06",
   "metadata": {},
   "outputs": [],
   "source": [
    "df_pyspark = spark.read.csv('test2.csv', header=True, inferSchema=True)"
   ]
  },
  {
   "cell_type": "code",
   "execution_count": 6,
   "id": "02ba36ee",
   "metadata": {},
   "outputs": [
    {
     "name": "stdout",
     "output_type": "stream",
     "text": [
      "+-------+----+----------+------+\n",
      "|   Name| Age|Experience|Salary|\n",
      "+-------+----+----------+------+\n",
      "|  Limon|  31|        10| 30000|\n",
      "|  Dalya|  30|         8| 25000|\n",
      "|   Viko|  29|         4| 20000|\n",
      "|   Paul|  24|         3| 20000|\n",
      "| Mahesh|  21|         1| 15000|\n",
      "| Harsha|  23|         2| 18000|\n",
      "|Beyonce|null|      null| 40000|\n",
      "|   null|  34|        10| 38000|\n",
      "|   null|  36|      null|  null|\n",
      "+-------+----+----------+------+\n",
      "\n"
     ]
    }
   ],
   "source": [
    "df_pyspark.show()"
   ]
  },
  {
   "cell_type": "code",
   "execution_count": 7,
   "id": "63c0ec78",
   "metadata": {},
   "outputs": [
    {
     "name": "stdout",
     "output_type": "stream",
     "text": [
      "+----+----------+------+\n",
      "| Age|Experience|Salary|\n",
      "+----+----------+------+\n",
      "|  31|        10| 30000|\n",
      "|  30|         8| 25000|\n",
      "|  29|         4| 20000|\n",
      "|  24|         3| 20000|\n",
      "|  21|         1| 15000|\n",
      "|  23|         2| 18000|\n",
      "|null|      null| 40000|\n",
      "|  34|        10| 38000|\n",
      "|  36|      null|  null|\n",
      "+----+----------+------+\n",
      "\n"
     ]
    }
   ],
   "source": [
    "# Drop the columns\n",
    "\n",
    "df_pyspark.drop('Name').show()"
   ]
  },
  {
   "cell_type": "code",
   "execution_count": 8,
   "id": "b6c930e6",
   "metadata": {},
   "outputs": [
    {
     "name": "stdout",
     "output_type": "stream",
     "text": [
      "+-------+----+----------+------+\n",
      "|   Name| Age|Experience|Salary|\n",
      "+-------+----+----------+------+\n",
      "|  Limon|  31|        10| 30000|\n",
      "|  Dalya|  30|         8| 25000|\n",
      "|   Viko|  29|         4| 20000|\n",
      "|   Paul|  24|         3| 20000|\n",
      "| Mahesh|  21|         1| 15000|\n",
      "| Harsha|  23|         2| 18000|\n",
      "|Beyonce|null|      null| 40000|\n",
      "|   null|  34|        10| 38000|\n",
      "|   null|  36|      null|  null|\n",
      "+-------+----+----------+------+\n",
      "\n"
     ]
    }
   ],
   "source": [
    "df_pyspark.show()"
   ]
  },
  {
   "cell_type": "code",
   "execution_count": 9,
   "id": "482344fd",
   "metadata": {},
   "outputs": [
    {
     "name": "stdout",
     "output_type": "stream",
     "text": [
      "+------+---+----------+------+\n",
      "|  Name|Age|Experience|Salary|\n",
      "+------+---+----------+------+\n",
      "| Limon| 31|        10| 30000|\n",
      "| Dalya| 30|         8| 25000|\n",
      "|  Viko| 29|         4| 20000|\n",
      "|  Paul| 24|         3| 20000|\n",
      "|Mahesh| 21|         1| 15000|\n",
      "|Harsha| 23|         2| 18000|\n",
      "+------+---+----------+------+\n",
      "\n"
     ]
    }
   ],
   "source": [
    "# drop null values\n",
    "\n",
    "# wherever Null/NaN values will be there, those rows will get dropped\n",
    "df_pyspark.na.drop().show()"
   ]
  },
  {
   "cell_type": "code",
   "execution_count": 10,
   "id": "5813339f",
   "metadata": {},
   "outputs": [
    {
     "name": "stdout",
     "output_type": "stream",
     "text": [
      "+-------+----+----------+------+\n",
      "|   Name| Age|Experience|Salary|\n",
      "+-------+----+----------+------+\n",
      "|  Limon|  31|        10| 30000|\n",
      "|  Dalya|  30|         8| 25000|\n",
      "|   Viko|  29|         4| 20000|\n",
      "|   Paul|  24|         3| 20000|\n",
      "| Mahesh|  21|         1| 15000|\n",
      "| Harsha|  23|         2| 18000|\n",
      "|Beyonce|null|      null| 40000|\n",
      "|   null|  34|        10| 38000|\n",
      "|   null|  36|      null|  null|\n",
      "+-------+----+----------+------+\n",
      "\n"
     ]
    }
   ],
   "source": [
    "# any == how\n",
    "\n",
    "# It will drop those records where all column values are Null\n",
    "df_pyspark.na.drop(how=\"all\").show()"
   ]
  },
  {
   "cell_type": "code",
   "execution_count": 11,
   "id": "4415ad33",
   "metadata": {},
   "outputs": [
    {
     "name": "stdout",
     "output_type": "stream",
     "text": [
      "+------+---+----------+------+\n",
      "|  Name|Age|Experience|Salary|\n",
      "+------+---+----------+------+\n",
      "| Limon| 31|        10| 30000|\n",
      "| Dalya| 30|         8| 25000|\n",
      "|  Viko| 29|         4| 20000|\n",
      "|  Paul| 24|         3| 20000|\n",
      "|Mahesh| 21|         1| 15000|\n",
      "|Harsha| 23|         2| 18000|\n",
      "+------+---+----------+------+\n",
      "\n"
     ]
    }
   ],
   "source": [
    "# any Null value present it will be dropped\n",
    "\n",
    "df_pyspark.na.drop(how=\"any\").show()"
   ]
  },
  {
   "cell_type": "code",
   "execution_count": 12,
   "id": "542c8cc7",
   "metadata": {},
   "outputs": [
    {
     "name": "stdout",
     "output_type": "stream",
     "text": [
      "+-------+----+----------+------+\n",
      "|   Name| Age|Experience|Salary|\n",
      "+-------+----+----------+------+\n",
      "|  Limon|  31|        10| 30000|\n",
      "|  Dalya|  30|         8| 25000|\n",
      "|   Viko|  29|         4| 20000|\n",
      "|   Paul|  24|         3| 20000|\n",
      "| Mahesh|  21|         1| 15000|\n",
      "| Harsha|  23|         2| 18000|\n",
      "|Beyonce|null|      null| 40000|\n",
      "|   null|  34|        10| 38000|\n",
      "+-------+----+----------+------+\n",
      "\n"
     ]
    }
   ],
   "source": [
    "# Threshold\n",
    "\n",
    "# Threshold = 2, means atleast 2 Non-Null values are present, if not then it will be dropped\n",
    "df_pyspark.na.drop(how=\"any\", thresh=2).show()"
   ]
  },
  {
   "cell_type": "code",
   "execution_count": 13,
   "id": "4593d951",
   "metadata": {},
   "outputs": [
    {
     "name": "stdout",
     "output_type": "stream",
     "text": [
      "+-------+----+----------+------+\n",
      "|   Name| Age|Experience|Salary|\n",
      "+-------+----+----------+------+\n",
      "|  Limon|  31|        10| 30000|\n",
      "|  Dalya|  30|         8| 25000|\n",
      "|   Viko|  29|         4| 20000|\n",
      "|   Paul|  24|         3| 20000|\n",
      "| Mahesh|  21|         1| 15000|\n",
      "| Harsha|  23|         2| 18000|\n",
      "|Beyonce|null|      null| 40000|\n",
      "|   null|  34|        10| 38000|\n",
      "|   null|  36|      null|  null|\n",
      "+-------+----+----------+------+\n",
      "\n"
     ]
    }
   ],
   "source": [
    "df_pyspark.na.drop(how=\"any\", thresh=1).show()"
   ]
  },
  {
   "cell_type": "code",
   "execution_count": 14,
   "id": "55321ee7",
   "metadata": {},
   "outputs": [
    {
     "name": "stdout",
     "output_type": "stream",
     "text": [
      "+------+---+----------+------+\n",
      "|  Name|Age|Experience|Salary|\n",
      "+------+---+----------+------+\n",
      "| Limon| 31|        10| 30000|\n",
      "| Dalya| 30|         8| 25000|\n",
      "|  Viko| 29|         4| 20000|\n",
      "|  Paul| 24|         3| 20000|\n",
      "|Mahesh| 21|         1| 15000|\n",
      "|Harsha| 23|         2| 18000|\n",
      "|  null| 34|        10| 38000|\n",
      "+------+---+----------+------+\n",
      "\n"
     ]
    }
   ],
   "source": [
    "df_pyspark.na.drop(how=\"any\", thresh=3).show()"
   ]
  },
  {
   "cell_type": "code",
   "execution_count": 15,
   "id": "2a4b5a8c",
   "metadata": {},
   "outputs": [
    {
     "name": "stdout",
     "output_type": "stream",
     "text": [
      "+------+---+----------+------+\n",
      "|  Name|Age|Experience|Salary|\n",
      "+------+---+----------+------+\n",
      "| Limon| 31|        10| 30000|\n",
      "| Dalya| 30|         8| 25000|\n",
      "|  Viko| 29|         4| 20000|\n",
      "|  Paul| 24|         3| 20000|\n",
      "|Mahesh| 21|         1| 15000|\n",
      "|Harsha| 23|         2| 18000|\n",
      "|  null| 34|        10| 38000|\n",
      "+------+---+----------+------+\n",
      "\n"
     ]
    }
   ],
   "source": [
    "# Subset\n",
    "\n",
    "# wherever Null values were present in 'Experience' col, all will be dropped\n",
    "df_pyspark.na.drop(how=\"any\", subset=['Experience']).show()"
   ]
  },
  {
   "cell_type": "code",
   "execution_count": 16,
   "id": "dac17703",
   "metadata": {},
   "outputs": [
    {
     "name": "stdout",
     "output_type": "stream",
     "text": [
      "+------+---+----------+------+\n",
      "|  Name|Age|Experience|Salary|\n",
      "+------+---+----------+------+\n",
      "| Limon| 31|        10| 30000|\n",
      "| Dalya| 30|         8| 25000|\n",
      "|  Viko| 29|         4| 20000|\n",
      "|  Paul| 24|         3| 20000|\n",
      "|Mahesh| 21|         1| 15000|\n",
      "|Harsha| 23|         2| 18000|\n",
      "|  null| 34|        10| 38000|\n",
      "|  null| 36|      null|  null|\n",
      "+------+---+----------+------+\n",
      "\n"
     ]
    }
   ],
   "source": [
    "df_pyspark.na.drop(how=\"any\", subset=['Age']).show()"
   ]
  },
  {
   "cell_type": "code",
   "execution_count": 22,
   "id": "372da4f4",
   "metadata": {},
   "outputs": [
    {
     "name": "stdout",
     "output_type": "stream",
     "text": [
      "+--------------+----+----------+------+\n",
      "|          Name| Age|Experience|Salary|\n",
      "+--------------+----+----------+------+\n",
      "|         Limon|  31|        10| 30000|\n",
      "|         Dalya|  30|         8| 25000|\n",
      "|          Viko|  29|         4| 20000|\n",
      "|          Paul|  24|         3| 20000|\n",
      "|        Mahesh|  21|         1| 15000|\n",
      "|        Harsha|  23|         2| 18000|\n",
      "|       Beyonce|null|      null| 40000|\n",
      "|Missing Values|  34|        10| 38000|\n",
      "|Missing Values|  36|      null|  null|\n",
      "+--------------+----+----------+------+\n",
      "\n"
     ]
    }
   ],
   "source": [
    "# Filling the missing value\n",
    "\n",
    "df_pyspark.na.fill('Missing Values').show()\n",
    "# df_pyspark.na.fill('Missing Values', ['Experience', 'Age']).show()"
   ]
  },
  {
   "cell_type": "code",
   "execution_count": 23,
   "id": "125ab31e",
   "metadata": {},
   "outputs": [
    {
     "name": "stdout",
     "output_type": "stream",
     "text": [
      "+-------+----+----------+------+\n",
      "|   Name| Age|Experience|Salary|\n",
      "+-------+----+----------+------+\n",
      "|  Limon|  31|        10| 30000|\n",
      "|  Dalya|  30|         8| 25000|\n",
      "|   Viko|  29|         4| 20000|\n",
      "|   Paul|  24|         3| 20000|\n",
      "| Mahesh|  21|         1| 15000|\n",
      "| Harsha|  23|         2| 18000|\n",
      "|Beyonce|null|      null| 40000|\n",
      "|   null|  34|        10| 38000|\n",
      "|   null|  36|      null|  null|\n",
      "+-------+----+----------+------+\n",
      "\n"
     ]
    }
   ],
   "source": [
    "df_pyspark.show()"
   ]
  },
  {
   "cell_type": "code",
   "execution_count": 24,
   "id": "3beeb8cc",
   "metadata": {},
   "outputs": [],
   "source": [
    "from pyspark.ml.feature import Imputer\n",
    "\n",
    "imputer = Imputer(\n",
    "    inputCols=['Age', 'Experience', 'Salary'],\n",
    "    outputCols=[\"{}_imputed\".format(c) for c in ['Age', 'Experience', 'Salary']]\n",
    ").setStrategy(\"mean\")"
   ]
  },
  {
   "cell_type": "code",
   "execution_count": 25,
   "id": "9173bced",
   "metadata": {},
   "outputs": [
    {
     "name": "stdout",
     "output_type": "stream",
     "text": [
      "+-------+----+----------+------+-----------+------------------+--------------+\n",
      "|   Name| Age|Experience|Salary|Age_imputed|Experience_imputed|Salary_imputed|\n",
      "+-------+----+----------+------+-----------+------------------+--------------+\n",
      "|  Limon|  31|        10| 30000|         31|                10|         30000|\n",
      "|  Dalya|  30|         8| 25000|         30|                 8|         25000|\n",
      "|   Viko|  29|         4| 20000|         29|                 4|         20000|\n",
      "|   Paul|  24|         3| 20000|         24|                 3|         20000|\n",
      "| Mahesh|  21|         1| 15000|         21|                 1|         15000|\n",
      "| Harsha|  23|         2| 18000|         23|                 2|         18000|\n",
      "|Beyonce|null|      null| 40000|         28|                 5|         40000|\n",
      "|   null|  34|        10| 38000|         34|                10|         38000|\n",
      "|   null|  36|      null|  null|         36|                 5|         25750|\n",
      "+-------+----+----------+------+-----------+------------------+--------------+\n",
      "\n"
     ]
    }
   ],
   "source": [
    "# Add imputation columns to df\n",
    "\n",
    "imputer.fit(df_pyspark).transform(df_pyspark).show()"
   ]
  },
  {
   "cell_type": "code",
   "execution_count": 26,
   "id": "1ce4a702",
   "metadata": {},
   "outputs": [],
   "source": [
    "from pyspark.ml.feature import Imputer\n",
    "\n",
    "imputer = Imputer(\n",
    "    inputCols=['Age', 'Experience', 'Salary'],\n",
    "    outputCols=[\"{}_imputed\".format(c) for c in ['Age', 'Experience', 'Salary']]\n",
    ").setStrategy(\"median\")"
   ]
  },
  {
   "cell_type": "code",
   "execution_count": 27,
   "id": "562dd58b",
   "metadata": {},
   "outputs": [
    {
     "name": "stdout",
     "output_type": "stream",
     "text": [
      "+-------+----+----------+------+-----------+------------------+--------------+\n",
      "|   Name| Age|Experience|Salary|Age_imputed|Experience_imputed|Salary_imputed|\n",
      "+-------+----+----------+------+-----------+------------------+--------------+\n",
      "|  Limon|  31|        10| 30000|         31|                10|         30000|\n",
      "|  Dalya|  30|         8| 25000|         30|                 8|         25000|\n",
      "|   Viko|  29|         4| 20000|         29|                 4|         20000|\n",
      "|   Paul|  24|         3| 20000|         24|                 3|         20000|\n",
      "| Mahesh|  21|         1| 15000|         21|                 1|         15000|\n",
      "| Harsha|  23|         2| 18000|         23|                 2|         18000|\n",
      "|Beyonce|null|      null| 40000|         29|                 4|         40000|\n",
      "|   null|  34|        10| 38000|         34|                10|         38000|\n",
      "|   null|  36|      null|  null|         36|                 4|         20000|\n",
      "+-------+----+----------+------+-----------+------------------+--------------+\n",
      "\n"
     ]
    }
   ],
   "source": [
    "# Add imputation columns to df\n",
    "\n",
    "imputer.fit(df_pyspark).transform(df_pyspark).show()"
   ]
  },
  {
   "cell_type": "code",
   "execution_count": null,
   "id": "bb5ce713",
   "metadata": {},
   "outputs": [],
   "source": []
  }
 ],
 "metadata": {
  "kernelspec": {
   "display_name": "pyspark",
   "language": "python",
   "name": "pyspark"
  },
  "language_info": {
   "codemirror_mode": {
    "name": "ipython",
    "version": 3
   },
   "file_extension": ".py",
   "mimetype": "text/x-python",
   "name": "python",
   "nbconvert_exporter": "python",
   "pygments_lexer": "ipython3",
   "version": "3.9.5"
  }
 },
 "nbformat": 4,
 "nbformat_minor": 5
}
